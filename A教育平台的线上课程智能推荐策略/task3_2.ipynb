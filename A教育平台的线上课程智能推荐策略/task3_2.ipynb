{
 "cells": [
  {
   "cell_type": "code",
   "execution_count": 1,
   "metadata": {},
   "outputs": [],
   "source": [
    "import pandas as pd\n",
    "from ItemCF import ItemBasedCF"
   ]
  },
  {
   "cell_type": "code",
   "execution_count": 2,
   "metadata": {},
   "outputs": [],
   "source": [
    "login = pd.read_csv('results/task1_1_1.csv')\n",
    "study = pd.read_csv('results/task1_1_2.csv')\n",
    "users = pd.read_csv('results/task1_1_3.csv')"
   ]
  },
  {
   "cell_type": "code",
   "execution_count": 3,
   "metadata": {},
   "outputs": [],
   "source": [
    "study.learn_process = study.learn_process.apply(lambda x:x[7:-2]).astype('int')\n",
    "study.learn_process = study.learn_process.apply(lambda x:x/100)"
   ]
  },
  {
   "cell_type": "code",
   "execution_count": 4,
   "metadata": {},
   "outputs": [],
   "source": [
    "learn_process = pd.DataFrame([study.user_id, study.course_id, study.learn_process]).T\n",
    "learn_process.to_csv('results/task3_2.csv', index=False)"
   ]
  },
  {
   "cell_type": "code",
   "execution_count": 5,
   "metadata": {},
   "outputs": [
    {
     "name": "stdout",
     "output_type": "stream",
     "text": [
      "Similar courses number = 10\n",
      "Recommneded courses number = 3\n",
      "X_train = 194974\n",
      "X_test = 0\n",
      "Total courses number = 241\n"
     ]
    }
   ],
   "source": [
    "itemCF = ItemBasedCF()\n",
    "itemCF.get_dataset_df(learn_process, pivot=2)\n",
    "# itemCF.get_dataset('item_fc.csv')\n",
    "itemCF.calc_course_sim()\n",
    "# itemCF.evaluate()"
   ]
  },
  {
   "cell_type": "code",
   "execution_count": 6,
   "metadata": {},
   "outputs": [
    {
     "data": {
      "text/html": [
       "<div>\n",
       "<style scoped>\n",
       "    .dataframe tbody tr th:only-of-type {\n",
       "        vertical-align: middle;\n",
       "    }\n",
       "\n",
       "    .dataframe tbody tr th {\n",
       "        vertical-align: top;\n",
       "    }\n",
       "\n",
       "    .dataframe thead th {\n",
       "        text-align: right;\n",
       "    }\n",
       "</style>\n",
       "<table border=\"1\" class=\"dataframe\">\n",
       "  <thead>\n",
       "    <tr style=\"text-align: right;\">\n",
       "      <th></th>\n",
       "      <th>learn_process</th>\n",
       "    </tr>\n",
       "    <tr>\n",
       "      <th>user_id</th>\n",
       "      <th></th>\n",
       "    </tr>\n",
       "  </thead>\n",
       "  <tbody>\n",
       "    <tr>\n",
       "      <th>用户1193</th>\n",
       "      <td>52.38</td>\n",
       "    </tr>\n",
       "    <tr>\n",
       "      <th>用户13841</th>\n",
       "      <td>40.42</td>\n",
       "    </tr>\n",
       "    <tr>\n",
       "      <th>用户32684</th>\n",
       "      <td>32.91</td>\n",
       "    </tr>\n",
       "    <tr>\n",
       "      <th>用户36989</th>\n",
       "      <td>29.60</td>\n",
       "    </tr>\n",
       "    <tr>\n",
       "      <th>用户24985</th>\n",
       "      <td>29.51</td>\n",
       "    </tr>\n",
       "  </tbody>\n",
       "</table>\n",
       "</div>"
      ],
      "text/plain": [
       "         learn_process\n",
       "user_id               \n",
       "用户1193           52.38\n",
       "用户13841          40.42\n",
       "用户32684          32.91\n",
       "用户36989          29.60\n",
       "用户24985          29.51"
      ]
     },
     "execution_count": 6,
     "metadata": {},
     "output_type": "execute_result"
    }
   ],
   "source": [
    "target_users = study.pivot_table(index='user_id', values='learn_process', aggfunc='sum').sort_values(by='learn_process', ascending=False)[:5]\n",
    "target_users"
   ]
  },
  {
   "cell_type": "code",
   "execution_count": 7,
   "metadata": {},
   "outputs": [
    {
     "name": "stdout",
     "output_type": "stream",
     "text": [
      "[('课程97', 2.8708023258513062), ('课程99', 2.6720775085528614), ('课程163', 2.33048052487803)]\n",
      "[('课程62', 2.898105170890257), ('课程231', 2.665534979652092), ('课程60', 2.376831486065626)]\n",
      "[('课程40', 2.6744861978353303), ('课程62', 1.7985811332833825), ('课程96', 1.6327122264885205)]\n",
      "[('课程40', 2.705607120948155), ('课程180', 1.4309142876416094), ('课程52', 1.3626530177746594)]\n",
      "[('课程52', 1.5971703354520215), ('课程180', 1.2631198843253113), ('课程51', 0.8002761700555903)]\n"
     ]
    }
   ],
   "source": [
    "l = []\n",
    "for u in target_users.index:\n",
    "    print(itemCF.recommend(u))\n",
    "#     l.extend(itemCF.recommend(u))\n",
    "#     l.append(itemCF.recommend(u))\n",
    "# pd.DataFrame(l)"
   ]
  }
 ],
 "metadata": {
  "kernelspec": {
   "display_name": "Python 3",
   "language": "python",
   "name": "python3"
  },
  "language_info": {
   "codemirror_mode": {
    "name": "ipython",
    "version": 3
   },
   "file_extension": ".py",
   "mimetype": "text/x-python",
   "name": "python",
   "nbconvert_exporter": "python",
   "pygments_lexer": "ipython3",
   "version": "3.8.5"
  }
 },
 "nbformat": 4,
 "nbformat_minor": 4
}
