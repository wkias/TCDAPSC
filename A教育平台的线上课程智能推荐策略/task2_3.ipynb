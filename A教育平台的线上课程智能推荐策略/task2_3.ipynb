{
 "cells": [
  {
   "cell_type": "code",
   "execution_count": 1,
   "metadata": {},
   "outputs": [],
   "source": [
    "import datetime\n",
    "import pandas as pd"
   ]
  },
  {
   "cell_type": "code",
   "execution_count": 2,
   "metadata": {},
   "outputs": [],
   "source": [
    "login = pd.read_csv('results/task1_1_1.csv')\n",
    "study = pd.read_csv('results/task1_1_2.csv')\n",
    "users = pd.read_csv('results/task1_2.csv')"
   ]
  },
  {
   "cell_type": "code",
   "execution_count": 3,
   "metadata": {},
   "outputs": [
    {
     "data": {
      "text/html": [
       "<div>\n",
       "<style scoped>\n",
       "    .dataframe tbody tr th:only-of-type {\n",
       "        vertical-align: middle;\n",
       "    }\n",
       "\n",
       "    .dataframe tbody tr th {\n",
       "        vertical-align: top;\n",
       "    }\n",
       "\n",
       "    .dataframe thead th {\n",
       "        text-align: right;\n",
       "    }\n",
       "</style>\n",
       "<table border=\"1\" class=\"dataframe\">\n",
       "  <thead>\n",
       "    <tr style=\"text-align: right;\">\n",
       "      <th></th>\n",
       "      <th>user_id</th>\n",
       "      <th>register_time</th>\n",
       "      <th>recently_logged</th>\n",
       "      <th>number_of_classes_join</th>\n",
       "      <th>number_of_classes_out</th>\n",
       "      <th>learn_time</th>\n",
       "      <th>school</th>\n",
       "      <th>datedelta</th>\n",
       "      <th>islost</th>\n",
       "    </tr>\n",
       "  </thead>\n",
       "  <tbody>\n",
       "    <tr>\n",
       "      <th>0</th>\n",
       "      <td>用户44251</td>\n",
       "      <td>2020/6/18 9:49</td>\n",
       "      <td>2020-06-18 09:49:00</td>\n",
       "      <td>0</td>\n",
       "      <td>0</td>\n",
       "      <td>41.25</td>\n",
       "      <td>NaN</td>\n",
       "      <td>0</td>\n",
       "      <td>0</td>\n",
       "    </tr>\n",
       "    <tr>\n",
       "      <th>1</th>\n",
       "      <td>用户44250</td>\n",
       "      <td>2020/6/18 9:47</td>\n",
       "      <td>2020-06-18 09:48:00</td>\n",
       "      <td>0</td>\n",
       "      <td>0</td>\n",
       "      <td>0</td>\n",
       "      <td>NaN</td>\n",
       "      <td>0</td>\n",
       "      <td>0</td>\n",
       "    </tr>\n",
       "    <tr>\n",
       "      <th>2</th>\n",
       "      <td>用户44249</td>\n",
       "      <td>2020/6/18 9:43</td>\n",
       "      <td>2020-06-18 09:43:00</td>\n",
       "      <td>0</td>\n",
       "      <td>0</td>\n",
       "      <td>16.22</td>\n",
       "      <td>NaN</td>\n",
       "      <td>0</td>\n",
       "      <td>0</td>\n",
       "    </tr>\n",
       "    <tr>\n",
       "      <th>3</th>\n",
       "      <td>用户44248</td>\n",
       "      <td>2020/6/18 9:09</td>\n",
       "      <td>2020-06-18 09:09:00</td>\n",
       "      <td>0</td>\n",
       "      <td>0</td>\n",
       "      <td>0</td>\n",
       "      <td>NaN</td>\n",
       "      <td>0</td>\n",
       "      <td>0</td>\n",
       "    </tr>\n",
       "    <tr>\n",
       "      <th>4</th>\n",
       "      <td>用户44247</td>\n",
       "      <td>2020/6/18 7:41</td>\n",
       "      <td>2020-06-18 08:15:00</td>\n",
       "      <td>0</td>\n",
       "      <td>0</td>\n",
       "      <td>1.8</td>\n",
       "      <td>NaN</td>\n",
       "      <td>0</td>\n",
       "      <td>0</td>\n",
       "    </tr>\n",
       "    <tr>\n",
       "      <th>...</th>\n",
       "      <td>...</td>\n",
       "      <td>...</td>\n",
       "      <td>...</td>\n",
       "      <td>...</td>\n",
       "      <td>...</td>\n",
       "      <td>...</td>\n",
       "      <td>...</td>\n",
       "      <td>...</td>\n",
       "      <td>...</td>\n",
       "    </tr>\n",
       "    <tr>\n",
       "      <th>43903</th>\n",
       "      <td>用户6</td>\n",
       "      <td>2018/9/11 16:13</td>\n",
       "      <td>2018-09-11 16:14:00</td>\n",
       "      <td>0</td>\n",
       "      <td>0</td>\n",
       "      <td>0</td>\n",
       "      <td>NaN</td>\n",
       "      <td>646</td>\n",
       "      <td>1</td>\n",
       "    </tr>\n",
       "    <tr>\n",
       "      <th>43904</th>\n",
       "      <td>用户5</td>\n",
       "      <td>2018/9/10 15:48</td>\n",
       "      <td>2020-06-15 17:13:00</td>\n",
       "      <td>9</td>\n",
       "      <td>5</td>\n",
       "      <td>2,116.15</td>\n",
       "      <td>NaN</td>\n",
       "      <td>3</td>\n",
       "      <td>0</td>\n",
       "    </tr>\n",
       "    <tr>\n",
       "      <th>43905</th>\n",
       "      <td>用户4</td>\n",
       "      <td>2018/9/10 14:15</td>\n",
       "      <td>2020-06-05 09:50:00</td>\n",
       "      <td>4</td>\n",
       "      <td>0</td>\n",
       "      <td>341.2</td>\n",
       "      <td>NaN</td>\n",
       "      <td>13</td>\n",
       "      <td>0</td>\n",
       "    </tr>\n",
       "    <tr>\n",
       "      <th>43906</th>\n",
       "      <td>用户3</td>\n",
       "      <td>2018/9/4 13:32</td>\n",
       "      <td>2020-06-18 09:18:00</td>\n",
       "      <td>2</td>\n",
       "      <td>1</td>\n",
       "      <td>370.35</td>\n",
       "      <td>NaN</td>\n",
       "      <td>0</td>\n",
       "      <td>0</td>\n",
       "    </tr>\n",
       "    <tr>\n",
       "      <th>43907</th>\n",
       "      <td>用户1</td>\n",
       "      <td>2018/9/3 10:00</td>\n",
       "      <td>2018-11-04 11:20:00</td>\n",
       "      <td>0</td>\n",
       "      <td>0</td>\n",
       "      <td>0</td>\n",
       "      <td>NaN</td>\n",
       "      <td>592</td>\n",
       "      <td>1</td>\n",
       "    </tr>\n",
       "  </tbody>\n",
       "</table>\n",
       "<p>43908 rows × 9 columns</p>\n",
       "</div>"
      ],
      "text/plain": [
       "       user_id    register_time     recently_logged  number_of_classes_join  \\\n",
       "0      用户44251   2020/6/18 9:49 2020-06-18 09:49:00                       0   \n",
       "1      用户44250   2020/6/18 9:47 2020-06-18 09:48:00                       0   \n",
       "2      用户44249   2020/6/18 9:43 2020-06-18 09:43:00                       0   \n",
       "3      用户44248   2020/6/18 9:09 2020-06-18 09:09:00                       0   \n",
       "4      用户44247   2020/6/18 7:41 2020-06-18 08:15:00                       0   \n",
       "...        ...              ...                 ...                     ...   \n",
       "43903      用户6  2018/9/11 16:13 2018-09-11 16:14:00                       0   \n",
       "43904      用户5  2018/9/10 15:48 2020-06-15 17:13:00                       9   \n",
       "43905      用户4  2018/9/10 14:15 2020-06-05 09:50:00                       4   \n",
       "43906      用户3   2018/9/4 13:32 2020-06-18 09:18:00                       2   \n",
       "43907      用户1   2018/9/3 10:00 2018-11-04 11:20:00                       0   \n",
       "\n",
       "       number_of_classes_out learn_time school  datedelta  islost  \n",
       "0                          0      41.25    NaN          0       0  \n",
       "1                          0          0    NaN          0       0  \n",
       "2                          0      16.22    NaN          0       0  \n",
       "3                          0          0    NaN          0       0  \n",
       "4                          0        1.8    NaN          0       0  \n",
       "...                      ...        ...    ...        ...     ...  \n",
       "43903                      0          0    NaN        646       1  \n",
       "43904                      5   2,116.15    NaN          3       0  \n",
       "43905                      0      341.2    NaN         13       0  \n",
       "43906                      1     370.35    NaN          0       0  \n",
       "43907                      0          0    NaN        592       1  \n",
       "\n",
       "[43908 rows x 9 columns]"
      ]
     },
     "execution_count": 3,
     "metadata": {},
     "output_type": "execute_result"
    }
   ],
   "source": [
    "users['recently_logged'] = pd.to_datetime(users.recently_logged)\n",
    "users['datedelta'] = users.recently_logged.apply(lambda x:datetime.datetime(2020, 6, 18) - x)\n",
    "users['datedelta'] = users.datedelta.apply(lambda x:x.days + 1)\n",
    "users['islost'] = users.datedelta.apply(lambda x:1 if x > 90 else 0)\n",
    "users"
   ]
  },
  {
   "cell_type": "code",
   "execution_count": 4,
   "metadata": {},
   "outputs": [
    {
     "data": {
      "text/plain": [
       "0.5840621299079894"
      ]
     },
     "execution_count": 4,
     "metadata": {},
     "output_type": "execute_result"
    }
   ],
   "source": [
    "loss = users['islost'].sum()/users.shape[0]\n",
    "loss"
   ]
  },
  {
   "cell_type": "code",
   "execution_count": 5,
   "metadata": {},
   "outputs": [
    {
     "data": {
      "text/plain": [
       "0.20956338712288844"
      ]
     },
     "execution_count": 5,
     "metadata": {},
     "output_type": "execute_result"
    }
   ],
   "source": [
    "loss = users[users.number_of_classes_join != 0]['islost'].sum()/users[users.number_of_classes_join != 0].shape[0]\n",
    "loss"
   ]
  },
  {
   "cell_type": "code",
   "execution_count": 6,
   "metadata": {},
   "outputs": [
    {
     "data": {
      "text/plain": [
       "0.8574805941920486"
      ]
     },
     "execution_count": 6,
     "metadata": {},
     "output_type": "execute_result"
    }
   ],
   "source": [
    "loss = users[users.number_of_classes_join == 0]['islost'].sum()/users[users.number_of_classes_join == 0].shape[0]\n",
    "loss"
   ]
  }
 ],
 "metadata": {
  "kernelspec": {
   "display_name": "Python 3",
   "language": "python",
   "name": "python3"
  },
  "language_info": {
   "codemirror_mode": {
    "name": "ipython",
    "version": 3
   },
   "file_extension": ".py",
   "mimetype": "text/x-python",
   "name": "python",
   "nbconvert_exporter": "python",
   "pygments_lexer": "ipython3",
   "version": "3.8.5"
  }
 },
 "nbformat": 4,
 "nbformat_minor": 4
}
