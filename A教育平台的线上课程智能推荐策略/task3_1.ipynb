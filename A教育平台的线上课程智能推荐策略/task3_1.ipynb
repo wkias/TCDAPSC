{
 "cells": [
  {
   "cell_type": "code",
   "execution_count": 1,
   "metadata": {},
   "outputs": [],
   "source": [
    "import datetime\n",
    "import matplotlib\n",
    "import pandas as pd\n",
    "import seaborn as sb"
   ]
  },
  {
   "cell_type": "code",
   "execution_count": 2,
   "metadata": {},
   "outputs": [],
   "source": [
    "login = pd.read_csv('results/task1_1_1.csv')\n",
    "study = pd.read_csv('results/task1_1_2.csv')\n",
    "users = pd.read_csv('results/task1_1_3.csv')"
   ]
  },
  {
   "cell_type": "code",
   "execution_count": 3,
   "metadata": {},
   "outputs": [
    {
     "data": {
      "text/html": [
       "<div>\n",
       "<style scoped>\n",
       "    .dataframe tbody tr th:only-of-type {\n",
       "        vertical-align: middle;\n",
       "    }\n",
       "\n",
       "    .dataframe tbody tr th {\n",
       "        vertical-align: top;\n",
       "    }\n",
       "\n",
       "    .dataframe thead th {\n",
       "        text-align: right;\n",
       "    }\n",
       "</style>\n",
       "<table border=\"1\" class=\"dataframe\">\n",
       "  <thead>\n",
       "    <tr style=\"text-align: right;\">\n",
       "      <th></th>\n",
       "      <th>num</th>\n",
       "      <th>rank</th>\n",
       "    </tr>\n",
       "  </thead>\n",
       "  <tbody>\n",
       "    <tr>\n",
       "      <th>课程76</th>\n",
       "      <td>13265</td>\n",
       "      <td>1.000000</td>\n",
       "    </tr>\n",
       "    <tr>\n",
       "      <th>课程31</th>\n",
       "      <td>9521</td>\n",
       "      <td>0.717732</td>\n",
       "    </tr>\n",
       "    <tr>\n",
       "      <th>课程17</th>\n",
       "      <td>8505</td>\n",
       "      <td>0.641134</td>\n",
       "    </tr>\n",
       "    <tr>\n",
       "      <th>课程191</th>\n",
       "      <td>7126</td>\n",
       "      <td>0.537168</td>\n",
       "    </tr>\n",
       "    <tr>\n",
       "      <th>课程180</th>\n",
       "      <td>6223</td>\n",
       "      <td>0.469089</td>\n",
       "    </tr>\n",
       "    <tr>\n",
       "      <th>课程52</th>\n",
       "      <td>6105</td>\n",
       "      <td>0.460193</td>\n",
       "    </tr>\n",
       "    <tr>\n",
       "      <th>课程34</th>\n",
       "      <td>5709</td>\n",
       "      <td>0.430338</td>\n",
       "    </tr>\n",
       "    <tr>\n",
       "      <th>课程171</th>\n",
       "      <td>5437</td>\n",
       "      <td>0.409831</td>\n",
       "    </tr>\n",
       "    <tr>\n",
       "      <th>课程50</th>\n",
       "      <td>5342</td>\n",
       "      <td>0.402669</td>\n",
       "    </tr>\n",
       "    <tr>\n",
       "      <th>课程12</th>\n",
       "      <td>4829</td>\n",
       "      <td>0.363993</td>\n",
       "    </tr>\n",
       "  </tbody>\n",
       "</table>\n",
       "</div>"
      ],
      "text/plain": [
       "         num      rank\n",
       "课程76   13265  1.000000\n",
       "课程31    9521  0.717732\n",
       "课程17    8505  0.641134\n",
       "课程191   7126  0.537168\n",
       "课程180   6223  0.469089\n",
       "课程52    6105  0.460193\n",
       "课程34    5709  0.430338\n",
       "课程171   5437  0.409831\n",
       "课程50    5342  0.402669\n",
       "课程12    4829  0.363993"
      ]
     },
     "execution_count": 3,
     "metadata": {},
     "output_type": "execute_result"
    }
   ],
   "source": [
    "gamma = pd.DataFrame(study.course_id.value_counts())\n",
    "gamma.columns=['num']\n",
    "gamma['rank'] = gamma.apply(lambda x:(x.num - gamma.num.min())/(gamma.num.max() - gamma.num.min()), axis=1)\n",
    "gamma[:10]"
   ]
  },
  {
   "cell_type": "code",
   "execution_count": 4,
   "metadata": {},
   "outputs": [
    {
     "data": {
      "image/png": "[encoded data removed]",
      "text/plain": [
       "<Figure size 432x288 with 1 Axes>"
      ]
     },
     "metadata": {
      "needs_background": "light"
     },
     "output_type": "display_data"
    }
   ],
   "source": [
    "matplotlib.rcParams['font.sans-serif'] = ['Microsoft YaHei'] \n",
    "matplotlib.rcParams['font.family']='sans-serif'\n",
    "# gamma['rank'][:10].plot.bar()\n",
    "a = gamma[:10].reset_index()\n",
    "sb.barplot(x=a['index'], y=a['rank'], palette=\"Blues_d\").get_figure().savefig('results/task3_1_1.svg')"
   ]
  }
 ],
 "metadata": {
  "kernelspec": {
   "display_name": "Python 3",
   "language": "python",
   "name": "python3"
  },
  "language_info": {
   "codemirror_mode": {
    "name": "ipython",
    "version": 3
   },
   "file_extension": ".py",
   "mimetype": "text/x-python",
   "name": "python",
   "nbconvert_exporter": "python",
   "pygments_lexer": "ipython3",
   "version": "3.8.5"
  }
 },
 "nbformat": 4,
 "nbformat_minor": 4
}
