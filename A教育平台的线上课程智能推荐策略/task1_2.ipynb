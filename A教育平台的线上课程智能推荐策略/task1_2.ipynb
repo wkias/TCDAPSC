{
 "cells": [
  {
   "cell_type": "code",
   "execution_count": 1,
   "metadata": {},
   "outputs": [],
   "source": [
    "import pandas as pd"
   ]
  },
  {
   "cell_type": "code",
   "execution_count": 2,
   "metadata": {},
   "outputs": [],
   "source": [
    "login = pd.read_csv('results/task1_1_1.csv')\n",
    "study = pd.read_csv('results/task1_1_2.csv')\n",
    "users = pd.read_csv('results/task1_1_3.csv')"
   ]
  },
  {
   "cell_type": "code",
   "execution_count": 3,
   "metadata": {},
   "outputs": [
    {
     "data": {
      "text/plain": [
       "(5375, 7)"
      ]
     },
     "execution_count": 3,
     "metadata": {},
     "output_type": "execute_result"
    }
   ],
   "source": [
    "users[users.recently_logged=='--'].shape"
   ]
  },
  {
   "cell_type": "code",
   "execution_count": 4,
   "metadata": {
    "tags": []
   },
   "outputs": [
    {
     "data": {
      "text/plain": [
       "(5291, 7)"
      ]
     },
     "execution_count": 4,
     "metadata": {},
     "output_type": "execute_result"
    }
   ],
   "source": [
    "def fill(x):\n",
    "    try:\n",
    "        x.recently_logged = sorted_login.get_group(x.user_id).values[-1]\n",
    "        return x\n",
    "    except KeyError:\n",
    "        return x\n",
    "sorted_login = login.sort_values(by='login_time').groupby('user_id').login_time\n",
    "users[users.recently_logged=='--'] = users[users.recently_logged=='--'].apply(fill, axis=1)\n",
    "users[users.recently_logged=='--'].shape"
   ]
  },
  {
   "cell_type": "code",
   "execution_count": 5,
   "metadata": {},
   "outputs": [
    {
     "data": {
      "text/plain": [
       "(0, 7)"
      ]
     },
     "execution_count": 5,
     "metadata": {},
     "output_type": "execute_result"
    }
   ],
   "source": [
    "def fill(x):\n",
    "    if x.recently_logged == '--':\n",
    "        x.recently_logged = x.register_time\n",
    "    return x\n",
    "users = users.apply(fill, axis='columns')\n",
    "users[users.recently_logged=='--'].shape"
   ]
  },
  {
   "cell_type": "code",
   "execution_count": 6,
   "metadata": {},
   "outputs": [],
   "source": [
    "users.to_csv('results/task1_2.csv', index=False)"
   ]
  }
 ],
 "metadata": {
  "kernelspec": {
   "display_name": "Python 3",
   "language": "python",
   "name": "python3"
  },
  "language_info": {
   "codemirror_mode": {
    "name": "ipython",
    "version": 3
   },
   "file_extension": ".py",
   "mimetype": "text/x-python",
   "name": "python",
   "nbconvert_exporter": "python",
   "pygments_lexer": "ipython3",
   "version": "3.8.5"
  }
 },
 "nbformat": 4,
 "nbformat_minor": 4
}
