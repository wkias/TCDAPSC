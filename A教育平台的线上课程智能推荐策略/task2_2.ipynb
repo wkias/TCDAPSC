{
 "cells": [
  {
   "cell_type": "code",
   "execution_count": 1,
   "metadata": {},
   "outputs": [],
   "source": [
    "import datetime\n",
    "import pandas as pd\n",
    "import seaborn as sb"
   ]
  },
  {
   "cell_type": "code",
   "execution_count": 2,
   "metadata": {},
   "outputs": [],
   "source": [
    "login = pd.read_csv('results/task1_1_1.csv')\n",
    "study = pd.read_csv('results/task1_1_2.csv')\n",
    "users = pd.read_csv('results/task1_1_3.csv')"
   ]
  },
  {
   "cell_type": "code",
   "execution_count": 3,
   "metadata": {},
   "outputs": [
    {
     "data": {
      "text/html": [
       "<div>\n",
       "<style scoped>\n",
       "    .dataframe tbody tr th:only-of-type {\n",
       "        vertical-align: middle;\n",
       "    }\n",
       "\n",
       "    .dataframe tbody tr th {\n",
       "        vertical-align: top;\n",
       "    }\n",
       "\n",
       "    .dataframe thead th {\n",
       "        text-align: right;\n",
       "    }\n",
       "</style>\n",
       "<table border=\"1\" class=\"dataframe\">\n",
       "  <thead>\n",
       "    <tr style=\"text-align: right;\">\n",
       "      <th></th>\n",
       "      <th>user_id</th>\n",
       "      <th>login_time</th>\n",
       "      <th>login_place</th>\n",
       "      <th>weekday</th>\n",
       "      <th>hour</th>\n",
       "      <th>isweekend</th>\n",
       "    </tr>\n",
       "  </thead>\n",
       "  <tbody>\n",
       "    <tr>\n",
       "      <th>0</th>\n",
       "      <td>用户3</td>\n",
       "      <td>2018-09-06 09:32:47</td>\n",
       "      <td>中国广东广州</td>\n",
       "      <td>4</td>\n",
       "      <td>8</td>\n",
       "      <td>0</td>\n",
       "    </tr>\n",
       "    <tr>\n",
       "      <th>1</th>\n",
       "      <td>用户3</td>\n",
       "      <td>2018-09-07 09:28:28</td>\n",
       "      <td>中国广东广州</td>\n",
       "      <td>5</td>\n",
       "      <td>8</td>\n",
       "      <td>0</td>\n",
       "    </tr>\n",
       "    <tr>\n",
       "      <th>2</th>\n",
       "      <td>用户3</td>\n",
       "      <td>2018-09-07 09:57:44</td>\n",
       "      <td>中国广东广州</td>\n",
       "      <td>5</td>\n",
       "      <td>8</td>\n",
       "      <td>0</td>\n",
       "    </tr>\n",
       "    <tr>\n",
       "      <th>3</th>\n",
       "      <td>用户3</td>\n",
       "      <td>2018-09-07 10:55:07</td>\n",
       "      <td>中国广东广州</td>\n",
       "      <td>5</td>\n",
       "      <td>8</td>\n",
       "      <td>0</td>\n",
       "    </tr>\n",
       "    <tr>\n",
       "      <th>4</th>\n",
       "      <td>用户3</td>\n",
       "      <td>2018-09-07 12:28:42</td>\n",
       "      <td>中国广东广州</td>\n",
       "      <td>5</td>\n",
       "      <td>12</td>\n",
       "      <td>0</td>\n",
       "    </tr>\n",
       "    <tr>\n",
       "      <th>...</th>\n",
       "      <td>...</td>\n",
       "      <td>...</td>\n",
       "      <td>...</td>\n",
       "      <td>...</td>\n",
       "      <td>...</td>\n",
       "      <td>...</td>\n",
       "    </tr>\n",
       "    <tr>\n",
       "      <th>387139</th>\n",
       "      <td>用户44247</td>\n",
       "      <td>2020-06-18 07:41:22</td>\n",
       "      <td>中国湖北武汉</td>\n",
       "      <td>4</td>\n",
       "      <td>4</td>\n",
       "      <td>0</td>\n",
       "    </tr>\n",
       "    <tr>\n",
       "      <th>387140</th>\n",
       "      <td>用户44247</td>\n",
       "      <td>2020-06-18 08:13:28</td>\n",
       "      <td>中国湖北</td>\n",
       "      <td>4</td>\n",
       "      <td>8</td>\n",
       "      <td>0</td>\n",
       "    </tr>\n",
       "    <tr>\n",
       "      <th>387141</th>\n",
       "      <td>用户44248</td>\n",
       "      <td>2020-06-18 09:09:07</td>\n",
       "      <td>中国天津</td>\n",
       "      <td>4</td>\n",
       "      <td>8</td>\n",
       "      <td>0</td>\n",
       "    </tr>\n",
       "    <tr>\n",
       "      <th>387142</th>\n",
       "      <td>用户44249</td>\n",
       "      <td>2020-06-18 09:43:15</td>\n",
       "      <td>中国北京</td>\n",
       "      <td>4</td>\n",
       "      <td>8</td>\n",
       "      <td>0</td>\n",
       "    </tr>\n",
       "    <tr>\n",
       "      <th>387143</th>\n",
       "      <td>用户44250</td>\n",
       "      <td>2020-06-18 09:48:00</td>\n",
       "      <td>中国江西南昌</td>\n",
       "      <td>4</td>\n",
       "      <td>8</td>\n",
       "      <td>0</td>\n",
       "    </tr>\n",
       "  </tbody>\n",
       "</table>\n",
       "<p>387144 rows × 6 columns</p>\n",
       "</div>"
      ],
      "text/plain": [
       "        user_id           login_time login_place  weekday  hour  isweekend\n",
       "0           用户3  2018-09-06 09:32:47      中国广东广州        4     8          0\n",
       "1           用户3  2018-09-07 09:28:28      中国广东广州        5     8          0\n",
       "2           用户3  2018-09-07 09:57:44      中国广东广州        5     8          0\n",
       "3           用户3  2018-09-07 10:55:07      中国广东广州        5     8          0\n",
       "4           用户3  2018-09-07 12:28:42      中国广东广州        5    12          0\n",
       "...         ...                  ...         ...      ...   ...        ...\n",
       "387139  用户44247  2020-06-18 07:41:22      中国湖北武汉        4     4          0\n",
       "387140  用户44247  2020-06-18 08:13:28        中国湖北        4     8          0\n",
       "387141  用户44248  2020-06-18 09:09:07        中国天津        4     8          0\n",
       "387142  用户44249  2020-06-18 09:43:15        中国北京        4     8          0\n",
       "387143  用户44250  2020-06-18 09:48:00      中国江西南昌        4     8          0\n",
       "\n",
       "[387144 rows x 6 columns]"
      ]
     },
     "execution_count": 3,
     "metadata": {},
     "output_type": "execute_result"
    }
   ],
   "source": [
    "def weekday(x):\n",
    "    x = datetime.datetime.strptime(x, '%Y-%m-%d %H:%M:%S').isoweekday()\n",
    "    return x\n",
    "login['weekday'] = login.login_time.apply(weekday).astype('int')\n",
    "login['hour'] = login.login_time.apply(lambda x:x[11:13]).astype('int')\n",
    "login['isweekend'] = login.weekday.apply(lambda x:1 if x>5 else 0)\n",
    "login['hour'] = login.hour.apply(lambda x:int(x/4)*4)\n",
    "login"
   ]
  },
  {
   "cell_type": "code",
   "execution_count": 4,
   "metadata": {},
   "outputs": [
    {
     "data": {
      "image/png": "[encoded data removed]",
      "text/plain": [
       "<Figure size 432x288 with 1 Axes>"
      ]
     },
     "metadata": {
      "needs_background": "light"
     },
     "output_type": "display_data"
    }
   ],
   "source": [
    "a = pd.DataFrame(login[login.isweekend==0].hour.value_counts().sort_index()).reset_index()\n",
    "a.index = ['0~4', '4~8', '8~12', '12~16', '16~20', '20~24']\n",
    "sb.barplot(x=a.index, y=a.hour, palette=\"Blues_d\").get_figure().savefig('results/task2_2_1.svg')"
   ]
  },
  {
   "cell_type": "code",
   "execution_count": 5,
   "metadata": {},
   "outputs": [
    {
     "data": {
      "image/png": "[encoded data removed]",
      "text/plain": [
       "<Figure size 432x288 with 1 Axes>"
      ]
     },
     "metadata": {
      "needs_background": "light"
     },
     "output_type": "display_data"
    }
   ],
   "source": [
    "a = pd.DataFrame(login[login.isweekend==1].hour.value_counts().sort_index()).reset_index()\n",
    "a.index = ['0~4', '4~8', '8~12', '12~16', '16~20', '20~24']\n",
    "sb.barplot(x=a.index, y=a.hour, palette=\"Blues_d\").get_figure().savefig('results/task2_2_2.svg')"
   ]
  }
 ],
 "metadata": {
  "kernelspec": {
   "display_name": "Python 3",
   "language": "python",
   "name": "python3"
  },
  "language_info": {
   "codemirror_mode": {
    "name": "ipython",
    "version": 3
   },
   "file_extension": ".py",
   "mimetype": "text/x-python",
   "name": "python",
   "nbconvert_exporter": "python",
   "pygments_lexer": "ipython3",
   "version": "3.8.5"
  }
 },
 "nbformat": 4,
 "nbformat_minor": 4
}
